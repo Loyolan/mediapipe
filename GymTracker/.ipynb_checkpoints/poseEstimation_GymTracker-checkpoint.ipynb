{
 "cells": [
  {
   "cell_type": "code",
   "execution_count": 5,
   "id": "aed8bac9-962a-41f4-a03b-e3c1935b41ec",
   "metadata": {},
   "outputs": [
    {
     "ename": "NameError",
     "evalue": "name 'requests' is not defined",
     "output_type": "error",
     "traceback": [
      "\u001b[0;31m---------------------------------------------------------------------------\u001b[0m",
      "\u001b[0;31mNameError\u001b[0m                                 Traceback (most recent call last)",
      "\u001b[0;32m<ipython-input-5-df7e5f76e737>\u001b[0m in \u001b[0;36m<module>\u001b[0;34m\u001b[0m\n\u001b[1;32m     31\u001b[0m \u001b[0;32mwith\u001b[0m \u001b[0mmp_pose\u001b[0m\u001b[0;34m.\u001b[0m\u001b[0mPose\u001b[0m\u001b[0;34m(\u001b[0m\u001b[0mmin_detection_confidence\u001b[0m\u001b[0;34m=\u001b[0m\u001b[0;36m0.5\u001b[0m\u001b[0;34m,\u001b[0m \u001b[0mmin_tracking_confidence\u001b[0m\u001b[0;34m=\u001b[0m\u001b[0;36m0.5\u001b[0m\u001b[0;34m)\u001b[0m \u001b[0;32mas\u001b[0m \u001b[0mpose\u001b[0m\u001b[0;34m:\u001b[0m\u001b[0;34m\u001b[0m\u001b[0;34m\u001b[0m\u001b[0m\n\u001b[1;32m     32\u001b[0m     \u001b[0;32mwhile\u001b[0m \u001b[0;32mTrue\u001b[0m\u001b[0;34m:\u001b[0m\u001b[0;34m\u001b[0m\u001b[0;34m\u001b[0m\u001b[0m\n\u001b[0;32m---> 33\u001b[0;31m         \u001b[0mr\u001b[0m \u001b[0;34m=\u001b[0m \u001b[0mrequests\u001b[0m\u001b[0;34m.\u001b[0m\u001b[0mget\u001b[0m\u001b[0;34m(\u001b[0m\u001b[0murl\u001b[0m\u001b[0;34m)\u001b[0m\u001b[0;34m\u001b[0m\u001b[0;34m\u001b[0m\u001b[0m\n\u001b[0m\u001b[1;32m     34\u001b[0m         \u001b[0mimg_arr\u001b[0m \u001b[0;34m=\u001b[0m \u001b[0mnp\u001b[0m\u001b[0;34m.\u001b[0m\u001b[0marray\u001b[0m\u001b[0;34m(\u001b[0m\u001b[0mbytearray\u001b[0m\u001b[0;34m(\u001b[0m\u001b[0mr\u001b[0m\u001b[0;34m.\u001b[0m\u001b[0mcontent\u001b[0m\u001b[0;34m)\u001b[0m\u001b[0;34m,\u001b[0m \u001b[0mdtype\u001b[0m\u001b[0;34m=\u001b[0m\u001b[0mnp\u001b[0m\u001b[0;34m.\u001b[0m\u001b[0muint8\u001b[0m\u001b[0;34m)\u001b[0m\u001b[0;34m\u001b[0m\u001b[0;34m\u001b[0m\u001b[0m\n\u001b[1;32m     35\u001b[0m         \u001b[0mimg\u001b[0m \u001b[0;34m=\u001b[0m \u001b[0mcv2\u001b[0m\u001b[0;34m.\u001b[0m\u001b[0mimdecode\u001b[0m\u001b[0;34m(\u001b[0m\u001b[0mimg_arr\u001b[0m\u001b[0;34m,\u001b[0m \u001b[0;34m-\u001b[0m\u001b[0;36m1\u001b[0m\u001b[0;34m)\u001b[0m\u001b[0;34m\u001b[0m\u001b[0;34m\u001b[0m\u001b[0m\n",
      "\u001b[0;31mNameError\u001b[0m: name 'requests' is not defined"
     ]
    }
   ],
   "source": [
    "import cv2\n",
    "import mediapipe as mp\n",
    "import numpy as np\n",
    "import requests\n",
    "\n",
    "mp_drawing = mp.solutions.drawing_utils\n",
    "# pose estimation\n",
    "mp_pose = mp.solutions.pose\n",
    "\n",
    "url = \"http://192.168.43.1:8080/shot.jpg\"\n",
    "#cap = cv2.VideoCapture(0)\n",
    "\n",
    "# counter\n",
    "counter = 0\n",
    "stage = None\n",
    "\n",
    "# CALCULATE ANGLE\n",
    "def calculate_angle(a, b, c): # 11(LEFT_SHOULDER) 13(LEFT_ELBOW) 15(LEFT_WRIST)\n",
    "    a = np.array(a) # First\n",
    "    b = np.array(b) # Middle\n",
    "    c = np.array(c) # End\n",
    "    \n",
    "    radians = np.arctan2(c[1]-b[1], c[0]-b[0]) - np.arctan2(a[1]-b[1], a[0]-b[0])\n",
    "    angle = np.abs(radians*180.0/np.pi)\n",
    "    \n",
    "    if angle > 180.0:\n",
    "        angle = 360-angle\n",
    "    return angle\n",
    "\n",
    "# setup mediapipe instance\n",
    "with mp_pose.Pose(min_detection_confidence=0.5, min_tracking_confidence=0.5) as pose:\n",
    "    while True:\n",
    "        r = requests.get(url)\n",
    "        img_arr = np.array(bytearray(r.content), dtype=np.uint8)\n",
    "        img = cv2.imdecode(img_arr, -1)\n",
    "        #ret, img = cap.read()\n",
    "        img = cv2.resize(img, (640, 480))\n",
    "        \n",
    "        # DETECT SUFF AND RENDER\n",
    "        img = cv2.cvtColor(img, cv2.COLOR_BGR2RGB) # recolor image to RGB\n",
    "        img.flags.writeable = False\n",
    "        results = pose.process(img) # make detection\n",
    "        img.flags.writeable = True\n",
    "        img = cv2.cvtColor(img, cv2.COLOR_RGB2BGR) # back to BGR\n",
    "        \n",
    "        # EXTRACT LANDMARKS (x, y, z, visibility)\n",
    "        try:\n",
    "            landmarks = results.pose_landmarks.landmark\n",
    "            # GET COORDONNEES\n",
    "            shoulder = [landmarks[mp_pose.PoseLandmark.LEFT_SHOULDER.value].x, landmarks[mp_pose.PoseLandmark.LEFT_SHOULDER.value].y]\n",
    "            elbow = [landmarks[mp_pose.PoseLandmark.LEFT_ELBOW.value].x, landmarks[mp_pose.PoseLandmark.LEFT_ELBOW.value].y]\n",
    "            wrist = [landmarks[mp_pose.PoseLandmark.LEFT_WRIST.value].x, landmarks[mp_pose.PoseLandmark.LEFT_WRIST.value].y]\n",
    "            # CALCULATE ANGLE\n",
    "            angle = calculate_angle(shoulder, elbow, wrist)\n",
    "            # VISUALIZE ANGLE\n",
    "            cv2.putText(img, str(angle),\n",
    "                        tuple(np.multiply(elbow, [640, 480]).astype(int)),\n",
    "                        cv2.FONT_HERSHEY_COMPLEX,\n",
    "                        0.5, (255, 255, 255),\n",
    "                        1, cv2.LINE_AA)\n",
    "            # COUNT CURL\n",
    "            if(angle > 160):\n",
    "                stage = \"DOWN\"\n",
    "            if(angle < 30 and stage == \"DOWN\"):\n",
    "                stage = \"UP\"\n",
    "                counter += 1\n",
    "            \n",
    "        except:\n",
    "            pass\n",
    "        ## Render curl counter\n",
    "        ### Setup status box\n",
    "        cv2.rectangle(img, (0,0), (255, 73), (245, 117, 16), -1)\n",
    "        ### Rep data\n",
    "        cv2.putText(img, 'REP', (15, 12),\n",
    "                   cv2.FONT_HERSHEY_COMPLEX,\n",
    "                   0.5, (255, 255, 255), 1, cv2.LINE_AA)\n",
    "        cv2.putText(img, str(counter), (5, 60),\n",
    "                   cv2.FONT_HERSHEY_COMPLEX,\n",
    "                   2, (254/2, 254/2, 254/2), 2, cv2.LINE_AA)\n",
    "        ### Stage data\n",
    "        cv2.putText(img, 'STAGE', (120, 12),\n",
    "                   cv2.FONT_HERSHEY_COMPLEX,\n",
    "                   0.5, (255, 255, 255), 1, cv2.LINE_AA)\n",
    "        cv2.putText(img, stage, (65, 60),\n",
    "                   cv2.FONT_HERSHEY_COMPLEX,\n",
    "                   2, (254/2, 254/2, 254/2), 2, cv2.LINE_AA)\n",
    "        \n",
    "        # RENDER DETECTION\n",
    "        mp_drawing.draw_landmarks(img, results.pose_landmarks, mp_pose.POSE_CONNECTIONS,\n",
    "                                 mp_drawing.DrawingSpec(color=(0, 245, 0), thickness=2, circle_radius=2),\n",
    "                                 mp_drawing.DrawingSpec(color=(245, 245, 245), thickness=2, circle_radius=2))\n",
    "        cv2.imshow(\"WidowFrame\", img)\n",
    "        if cv2.waitKey(1) & 0xFF == ord(\"q\"):\n",
    "            break\n",
    "    cap.release()\n",
    "    cv2.destroyAllWindows()\n",
    "    print(\"FIN\")"
   ]
  },
  {
   "cell_type": "code",
   "execution_count": 14,
   "id": "ee22bf8a-ffd8-4fca-96e6-f4aa37b58574",
   "metadata": {},
   "outputs": [
    {
     "data": {
      "text/plain": [
       "x: 0.7002249956130981\n",
       "y: 0.7204928994178772\n",
       "z: -0.09609514474868774\n",
       "visibility: 0.9996537566184998"
      ]
     },
     "execution_count": 14,
     "metadata": {},
     "output_type": "execute_result"
    }
   ],
   "source": [
    "landmarks[mp_pose.PoseLandmark.LEFT_SHOULDER.value] "
   ]
  },
  {
   "cell_type": "code",
   "execution_count": 18,
   "id": "4e295ebd-cd6d-45d9-a07c-5d44d9ae5762",
   "metadata": {},
   "outputs": [
    {
     "data": {
      "text/plain": [
       "7"
      ]
     },
     "execution_count": 18,
     "metadata": {},
     "output_type": "execute_result"
    }
   ],
   "source": [
    "mp_pose.PoseLandmark.LEFT_EAR.value # NUMERO DE POSITION"
   ]
  },
  {
   "cell_type": "code",
   "execution_count": 22,
   "id": "a4c5d364-28c4-4afd-b255-f7b0f898be06",
   "metadata": {},
   "outputs": [],
   "source": [
    "# CALCULATE ANGLE\n",
    "def calculate_angle(a, b, c): # 11(LEFT_SHOULDER) 13(LEFT_ELBOW) 15(LEFT_WRIST)\n",
    "    a = np.array(a) # First\n",
    "    b = np.array(b) # Middle\n",
    "    c = np.array(c) # End\n",
    "    \n",
    "    radians = np.arctan2(c[1]-b[1], c[0]-b[0]) - np.arctan2(a[1]-b[1], a[0]-b[0])\n",
    "    angle = np.abs(radians*180.0/np.pi)\n",
    "    \n",
    "    if angle > 180.0:\n",
    "        angle = 360-angle\n",
    "    return angle"
   ]
  },
  {
   "cell_type": "code",
   "execution_count": 23,
   "id": "c24969a8-c8e0-4fcb-a6b4-e1ae68b1ef9c",
   "metadata": {},
   "outputs": [
    {
     "data": {
      "text/plain": [
       "[0.7002249956130981, 0.7204928994178772]"
      ]
     },
     "execution_count": 23,
     "metadata": {},
     "output_type": "execute_result"
    }
   ],
   "source": [
    "shoulder = [landmarks[mp_pose.PoseLandmark.LEFT_SHOULDER.value].x, landmarks[mp_pose.PoseLandmark.LEFT_SHOULDER.value].y]\n",
    "shoulder"
   ]
  },
  {
   "cell_type": "code",
   "execution_count": 24,
   "id": "2e4d7fe6-9fd5-4a94-931f-a19f348d84ea",
   "metadata": {},
   "outputs": [
    {
     "data": {
      "text/plain": [
       "168.30075599654361"
      ]
     },
     "execution_count": 24,
     "metadata": {},
     "output_type": "execute_result"
    }
   ],
   "source": [
    "elbow = [landmarks[mp_pose.PoseLandmark.LEFT_ELBOW.value].x, landmarks[mp_pose.PoseLandmark.LEFT_ELBOW.value].y]\n",
    "wrist = [landmarks[mp_pose.PoseLandmark.LEFT_WRIST.value].x, landmarks[mp_pose.PoseLandmark.LEFT_WRIST.value].y]\n",
    "\n",
    "calculate_angle(shoulder, elbow, wrist)"
   ]
  }
 ],
 "metadata": {
  "kernelspec": {
   "display_name": "Python 3 (ipykernel)",
   "language": "python",
   "name": "python3"
  },
  "language_info": {
   "codemirror_mode": {
    "name": "ipython",
    "version": 3
   },
   "file_extension": ".py",
   "mimetype": "text/x-python",
   "name": "python",
   "nbconvert_exporter": "python",
   "pygments_lexer": "ipython3",
   "version": "3.8.8"
  }
 },
 "nbformat": 4,
 "nbformat_minor": 5
}
